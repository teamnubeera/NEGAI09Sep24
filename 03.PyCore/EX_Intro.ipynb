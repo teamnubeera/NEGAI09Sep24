{
  "metadata": {
    "kernelspec": {
      "name": "python",
      "display_name": "Python (Pyodide)",
      "language": "python"
    },
    "language_info": {
      "codemirror_mode": {
        "name": "python",
        "version": 3
      },
      "file_extension": ".py",
      "mimetype": "text/x-python",
      "name": "python",
      "nbconvert_exporter": "python",
      "pygments_lexer": "ipython3",
      "version": "3.8"
    }
  },
  "nbformat_minor": 5,
  "nbformat": 4,
  "cells": [
    {
      "id": "f9911795-3c52-451f-98ab-e631b8458de5",
      "cell_type": "code",
      "source": "thislist = [\"apple\", \"banana\", \"cherry\", \"orange\", \"kiwi\", \"mango\"]",
      "metadata": {
        "trusted": true
      },
      "outputs": [],
      "execution_count": 1
    },
    {
      "id": "f6a46e0a-80e0-4f64-a45f-1653bd2a0104",
      "cell_type": "code",
      "source": "thislist[1:3]",
      "metadata": {
        "trusted": true
      },
      "outputs": [
        {
          "execution_count": 2,
          "output_type": "execute_result",
          "data": {
            "text/plain": "['banana', 'cherry']"
          },
          "metadata": {}
        }
      ],
      "execution_count": 2
    },
    {
      "id": "7caa5dd2-e0d7-4706-a182-4395b27d9d32",
      "cell_type": "code",
      "source": "thislist[1:3] = [\"blackcurrant\", \"watermelon\"]",
      "metadata": {
        "trusted": true
      },
      "outputs": [],
      "execution_count": 5
    },
    {
      "id": "dcf74247-69c6-440e-8601-f82bce0f9766",
      "cell_type": "code",
      "source": "thislist",
      "metadata": {
        "trusted": true
      },
      "outputs": [
        {
          "execution_count": 6,
          "output_type": "execute_result",
          "data": {
            "text/plain": "['apple', 'blackcurrant', 'watermelon', 'orange', 'kiwi', 'mango']"
          },
          "metadata": {}
        }
      ],
      "execution_count": 6
    },
    {
      "id": "151858b6-55a6-4a46-8d13-c43a3e331e64",
      "cell_type": "code",
      "source": "thislist.insert(2, \"aaaa\")",
      "metadata": {
        "trusted": true
      },
      "outputs": [],
      "execution_count": 7
    },
    {
      "id": "be1b6e3b-e297-4d7f-94a5-0fc522f6121e",
      "cell_type": "code",
      "source": "thislist",
      "metadata": {
        "trusted": true
      },
      "outputs": [
        {
          "execution_count": 8,
          "output_type": "execute_result",
          "data": {
            "text/plain": "['apple', 'blackcurrant', 'aaaa', 'watermelon', 'orange', 'kiwi', 'mango']"
          },
          "metadata": {}
        }
      ],
      "execution_count": 8
    },
    {
      "id": "a291ad78-8f3c-4816-80fe-0be9f51cded7",
      "cell_type": "code",
      "source": "thislist.append(\"bbb\")",
      "metadata": {
        "trusted": true
      },
      "outputs": [],
      "execution_count": 9
    },
    {
      "id": "4028170c-ccfb-4f5a-996e-8e3811693818",
      "cell_type": "code",
      "source": "thislist",
      "metadata": {
        "trusted": true
      },
      "outputs": [
        {
          "execution_count": 10,
          "output_type": "execute_result",
          "data": {
            "text/plain": "['apple',\n 'blackcurrant',\n 'aaaa',\n 'watermelon',\n 'orange',\n 'kiwi',\n 'mango',\n 'bbb']"
          },
          "metadata": {}
        }
      ],
      "execution_count": 10
    },
    {
      "id": "39e59bee-408e-4fe7-96bd-7fafb687baaf",
      "cell_type": "code",
      "source": "thislist = [\"apple\", \"banana\", \"cherry\"]\nthistuple = (\"kiwi\", \"orange\")",
      "metadata": {
        "trusted": true
      },
      "outputs": [],
      "execution_count": 11
    },
    {
      "id": "2aef0cab-b74b-455f-90a3-704f6a957c47",
      "cell_type": "code",
      "source": "thislist.extend(thistuple)",
      "metadata": {
        "trusted": true
      },
      "outputs": [],
      "execution_count": 12
    },
    {
      "id": "b378a9e2-4a5c-449a-9d57-69ffd7688e8f",
      "cell_type": "code",
      "source": "print(thislist)",
      "metadata": {
        "trusted": true
      },
      "outputs": [
        {
          "name": "stdout",
          "text": "['apple', 'banana', 'cherry', 'kiwi', 'orange']\n",
          "output_type": "stream"
        }
      ],
      "execution_count": 13
    },
    {
      "id": "7f020728-f48e-48f2-afac-0499080aff35",
      "cell_type": "code",
      "source": "thislist = [\"apple\", \"banana\", \"cherry\", \"banana\", \"kiwi\"]",
      "metadata": {
        "trusted": true
      },
      "outputs": [],
      "execution_count": 17
    },
    {
      "id": "bec185ba-8a32-4983-a6b4-961c45b6e9b2",
      "cell_type": "code",
      "source": "thislist.remove(\"banana\")",
      "metadata": {
        "trusted": true
      },
      "outputs": [],
      "execution_count": 15
    },
    {
      "id": "cedbcb8a-ce9e-4b10-b09d-e423794200be",
      "cell_type": "code",
      "source": "thislist",
      "metadata": {
        "trusted": true
      },
      "outputs": [
        {
          "execution_count": 16,
          "output_type": "execute_result",
          "data": {
            "text/plain": "['apple', 'cherry', 'banana', 'kiwi']"
          },
          "metadata": {}
        }
      ],
      "execution_count": 16
    },
    {
      "id": "01c0647d-fd8d-4c6b-b10e-38f94d4b6835",
      "cell_type": "code",
      "source": "thislist = [\"apple\", \"banana\", \"cherry\", \"banana\", \"kiwi\"]",
      "metadata": {
        "trusted": true
      },
      "outputs": [],
      "execution_count": 18
    },
    {
      "id": "bfe0b4a9-3e0c-4648-a3f4-ff764d769391",
      "cell_type": "code",
      "source": "thislist.pop(1)",
      "metadata": {
        "trusted": true
      },
      "outputs": [
        {
          "execution_count": 19,
          "output_type": "execute_result",
          "data": {
            "text/plain": "'banana'"
          },
          "metadata": {}
        }
      ],
      "execution_count": 19
    },
    {
      "id": "263b6278-f34b-406a-ad1f-facdd3a7ce36",
      "cell_type": "code",
      "source": "thislist",
      "metadata": {
        "trusted": true
      },
      "outputs": [
        {
          "execution_count": 20,
          "output_type": "execute_result",
          "data": {
            "text/plain": "['apple', 'cherry', 'banana', 'kiwi']"
          },
          "metadata": {}
        }
      ],
      "execution_count": 20
    },
    {
      "id": "940b0afb-fa41-4778-9828-2b84de7b7ff0",
      "cell_type": "code",
      "source": "thislist = [\"apple\", \"banana\", \"cherry\", \"banana\", \"kiwi\"]",
      "metadata": {
        "trusted": true
      },
      "outputs": [],
      "execution_count": 21
    },
    {
      "id": "6fa5e428-4076-47eb-8239-6da0079369d5",
      "cell_type": "code",
      "source": "del thislist[0]",
      "metadata": {
        "trusted": true
      },
      "outputs": [],
      "execution_count": 22
    },
    {
      "id": "61b76f97-49a4-4e5f-967d-86d9e438c8fd",
      "cell_type": "code",
      "source": "thislist",
      "metadata": {
        "trusted": true
      },
      "outputs": [
        {
          "execution_count": 23,
          "output_type": "execute_result",
          "data": {
            "text/plain": "['banana', 'cherry', 'banana', 'kiwi']"
          },
          "metadata": {}
        }
      ],
      "execution_count": 23
    },
    {
      "id": "db8310e3-4167-4135-aff0-5f2aa9efcf21",
      "cell_type": "code",
      "source": "del thislist",
      "metadata": {
        "trusted": true
      },
      "outputs": [],
      "execution_count": 24
    },
    {
      "id": "f2b6c278-8251-4017-8683-7450c7b49d55",
      "cell_type": "code",
      "source": "thislist",
      "metadata": {
        "trusted": true
      },
      "outputs": [
        {
          "ename": "<class 'NameError'>",
          "evalue": "name 'thislist' is not defined",
          "traceback": [
            "\u001b[0;31m---------------------------------------------------------------------------\u001b[0m",
            "\u001b[0;31mNameError\u001b[0m                                 Traceback (most recent call last)",
            "Cell \u001b[0;32mIn[25], line 1\u001b[0m\n\u001b[0;32m----> 1\u001b[0m \u001b[43mthislist\u001b[49m\n",
            "\u001b[0;31mNameError\u001b[0m: name 'thislist' is not defined"
          ],
          "output_type": "error"
        }
      ],
      "execution_count": 25
    },
    {
      "id": "aced022f-4151-4b6c-829a-7186561f0baf",
      "cell_type": "code",
      "source": "thislist = [\"apple\", \"banana\", \"cherry\", \"banana\", \"kiwi\"]",
      "metadata": {
        "trusted": true
      },
      "outputs": [],
      "execution_count": 26
    },
    {
      "id": "2b62e78a-59a3-44a0-a34c-4ab4740fa121",
      "cell_type": "code",
      "source": "thislist",
      "metadata": {
        "trusted": true
      },
      "outputs": [
        {
          "execution_count": 27,
          "output_type": "execute_result",
          "data": {
            "text/plain": "['apple', 'banana', 'cherry', 'banana', 'kiwi']"
          },
          "metadata": {}
        }
      ],
      "execution_count": 27
    },
    {
      "id": "03dc3070-1d54-4151-869e-c013f80155f3",
      "cell_type": "code",
      "source": "thislist.clear()",
      "metadata": {
        "trusted": true
      },
      "outputs": [],
      "execution_count": 28
    },
    {
      "id": "061c224f-fb07-485f-9e95-74cca198e259",
      "cell_type": "code",
      "source": "thislist",
      "metadata": {
        "trusted": true
      },
      "outputs": [
        {
          "execution_count": 29,
          "output_type": "execute_result",
          "data": {
            "text/plain": "[]"
          },
          "metadata": {}
        }
      ],
      "execution_count": 29
    },
    {
      "id": "33294559-3d8f-4e53-87d0-3c966769b555",
      "cell_type": "code",
      "source": "thislist = [\"apple\", \"banana\", \"cherry\", \"banana\", \"kiwi\"]",
      "metadata": {
        "trusted": true
      },
      "outputs": [],
      "execution_count": 30
    },
    {
      "id": "460be131-b77f-4057-8fc0-e5a191760bc5",
      "cell_type": "code",
      "source": "for i in thislist:\n    print(i)",
      "metadata": {
        "trusted": true
      },
      "outputs": [
        {
          "name": "stdout",
          "text": "apple\nbanana\ncherry\nbanana\nkiwi\n",
          "output_type": "stream"
        }
      ],
      "execution_count": 31
    },
    {
      "id": "aed91764-238c-44ca-87a1-e001bb3f4986",
      "cell_type": "code",
      "source": "thislist = [\"apple\", \"banana\", \"cherry\", \"banana\", \"kiwi\"]",
      "metadata": {
        "trusted": true
      },
      "outputs": [],
      "execution_count": 32
    },
    {
      "id": "937dee48-f97b-4291-8e6f-37cb01a2aa98",
      "cell_type": "code",
      "source": "for i in range(len(thislist)):\n    print(thislist[i])",
      "metadata": {
        "trusted": true
      },
      "outputs": [
        {
          "name": "stdout",
          "text": "apple\nbanana\ncherry\nbanana\nkiwi\n",
          "output_type": "stream"
        }
      ],
      "execution_count": 33
    },
    {
      "id": "ec7c89b5-962a-4b82-ab85-7955b3cf76da",
      "cell_type": "code",
      "source": "thislist = [\"apple\", \"banana\", \"cherry\", \"banana\", \"kiwi\"]",
      "metadata": {
        "trusted": true
      },
      "outputs": [],
      "execution_count": 34
    },
    {
      "id": "b64cbdeb-ec10-4bd3-a343-cb560fadfa72",
      "cell_type": "code",
      "source": "[print(x) for x in thislist]",
      "metadata": {
        "trusted": true
      },
      "outputs": [
        {
          "name": "stdout",
          "text": "apple\nbanana\ncherry\nbanana\nkiwi\n",
          "output_type": "stream"
        },
        {
          "execution_count": 35,
          "output_type": "execute_result",
          "data": {
            "text/plain": "[None, None, None, None, None]"
          },
          "metadata": {}
        }
      ],
      "execution_count": 35
    },
    {
      "id": "ded592ad-df25-4f34-a1c4-641555a522c5",
      "cell_type": "code",
      "source": "",
      "metadata": {
        "trusted": true
      },
      "outputs": [],
      "execution_count": null
    }
  ]
}